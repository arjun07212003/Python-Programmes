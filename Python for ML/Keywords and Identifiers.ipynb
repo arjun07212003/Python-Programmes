{
 "cells": [
  {
   "cell_type": "markdown",
   "id": "a5a1d996",
   "metadata": {},
   "source": [
    "# Keywords and Identifiers\n",
    "\n",
    "Keywords are pre-defined reserved words in python.\n",
    "\n",
    "Identifiers are user defined words which cannot be used as varianles or words."
   ]
  },
  {
   "cell_type": "markdown",
   "id": "72f40d4b",
   "metadata": {},
   "source": [
    "## Comments, Identation and Statement\n",
    "\n",
    "Python documentation string (Docstring) -  \n",
    "1] It is the shortest decription of a function. It is a convinient way of associationg documents with python modules. \n",
    "\n",
    "Statements - \n",
    "1] Statements are instructions passed to the python interpreter for execution.\n",
    "\n",
    "IDENTATION - \n",
    "1] Refers to the spaces at the beginning of the code line.\n",
    "\n",
    "VARIABLES -\n",
    "1] It is a storage location, used to store any type of the values like int,char,float.\n",
    "\n",
    "DATATYPES - \n",
    "1] Every value in python is a datatype, as python is an object oriented programming language\n",
    "2] Every dataype is a predefined class in python\n",
    "3] Every variable is a \n",
    "\n",
    "NOTE -\n",
    "Data Analytist is the entry position for any data scientist."
   ]
  },
  {
   "cell_type": "code",
   "execution_count": 8,
   "id": "c36933cb",
   "metadata": {},
   "outputs": [
    {
     "name": "stdout",
     "output_type": "stream",
     "text": [
      "['False', 'None', 'True', '__peg_parser__', 'and', 'as', 'assert', 'async', 'await', 'break', 'class', 'continue', 'def', 'del', 'elif', 'else', 'except', 'finally', 'for', 'from', 'global', 'if', 'import', 'in', 'is', 'lambda', 'nonlocal', 'not', 'or', 'pass', 'raise', 'return', 'try', 'while', 'with', 'yield']\n"
     ]
    }
   ],
   "source": [
    "import keyword\n",
    "print(keyword.kwlist)"
   ]
  },
  {
   "cell_type": "code",
   "execution_count": 17,
   "id": "8e8d19c0",
   "metadata": {},
   "outputs": [],
   "source": [
    "def add(a,b): ## here the function is defined for the whole program\n",
    "    return (a+b)\n",
    "    \n",
    "\n",
    " ##\"This performs Addition operation\"\n",
    "\n",
    " "
   ]
  },
  {
   "cell_type": "code",
   "execution_count": 18,
   "id": "d5e81d2a",
   "metadata": {},
   "outputs": [
    {
     "name": "stdout",
     "output_type": "stream",
     "text": [
      "12\n"
     ]
    }
   ],
   "source": [
    "print(add(5,7)) ## here function is being called."
   ]
  },
  {
   "cell_type": "code",
   "execution_count": null,
   "id": "130c56cb",
   "metadata": {},
   "outputs": [],
   "source": []
  }
 ],
 "metadata": {
  "kernelspec": {
   "display_name": "Python 3 (ipykernel)",
   "language": "python",
   "name": "python3"
  },
  "language_info": {
   "codemirror_mode": {
    "name": "ipython",
    "version": 3
   },
   "file_extension": ".py",
   "mimetype": "text/x-python",
   "name": "python",
   "nbconvert_exporter": "python",
   "pygments_lexer": "ipython3",
   "version": "3.9.13"
  }
 },
 "nbformat": 4,
 "nbformat_minor": 5
}
